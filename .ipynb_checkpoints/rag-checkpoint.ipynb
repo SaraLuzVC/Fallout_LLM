{
 "cells": [
  {
   "cell_type": "markdown",
   "metadata": {},
   "source": [
    "# RAG from YouTube video"
   ]
  },
  {
   "cell_type": "markdown",
   "metadata": {},
   "source": [
    "Loading the environment variables we need to use."
   ]
  },
  {
   "cell_type": "code",
   "execution_count": 29,
   "metadata": {},
   "outputs": [],
   "source": [
    "import os\n",
    "from dotenv import load_dotenv\n",
    "\n",
    "load_dotenv()\n",
    "\n",
    "OPENAI_API_KEY = os.getenv(\"OPENAI_API_KEY\")\n",
    "\n",
    "# Is it wrong to kill Harold?, Fallout 3 Lore.\n",
    "YOUTUBE_VIDEO = \"https://www.youtube.com/watch?v=3Tf0Ld62844\""
   ]
  },
  {
   "cell_type": "markdown",
   "metadata": {},
   "source": [
    "## Setting up the model\n",
    "Let's define the LLM model that we'll use as part of the workflow."
   ]
  },
  {
   "cell_type": "code",
   "execution_count": 30,
   "metadata": {},
   "outputs": [],
   "source": [
    "from langchain_openai.chat_models import ChatOpenAI\n",
    "\n",
    "model = ChatOpenAI(openai_api_key=OPENAI_API_KEY, model=\"gpt-3.5-turbo\")"
   ]
  },
  {
   "cell_type": "markdown",
   "metadata": {},
   "source": [
    "We can test the model by asking a simple question."
   ]
  },
  {
   "cell_type": "code",
   "execution_count": 31,
   "metadata": {},
   "outputs": [
    {
     "data": {
      "text/plain": [
       "AIMessage(content='The Los Angeles Dodgers won the World Series during the COVID-19 pandemic in 2020. They defeated the Tampa Bay Rays in a six-game series to claim their first championship since 1988.', response_metadata={'token_usage': {'completion_tokens': 40, 'prompt_tokens': 21, 'total_tokens': 61}, 'model_name': 'gpt-3.5-turbo', 'system_fingerprint': None, 'finish_reason': 'stop', 'logprobs': None}, id='run-e364c240-e6e1-432a-a058-e2e83d16eb2c-0')"
      ]
     },
     "execution_count": 31,
     "metadata": {},
     "output_type": "execute_result"
    }
   ],
   "source": [
    "model.invoke(\"What MLB team won the World Series during the COVID-19 pandemic?\")"
   ]
  },
  {
   "cell_type": "code",
   "execution_count": 32,
   "metadata": {},
   "outputs": [
    {
     "data": {
      "text/plain": [
       "AIMessage(content=\"To make enchiladas, you will need the following ingredients:\\n\\n- 1 pound of cooked and shredded chicken, beef, or pork\\n- 1 can of enchilada sauce\\n- 1 small diced onion\\n- 1 minced clove of garlic\\n- 1 can of diced green chilies\\n- 1 cup of shredded cheese\\n- 8-10 corn tortillas\\n- Salt and pepper to taste\\n- Optional toppings such as sliced avocado, sour cream, chopped cilantro, and sliced jalapenos\\n\\nHere's how to make enchiladas:\\n\\n1. Preheat your oven to 350°F (175°C).\\n\\n2. In a skillet, sauté the diced onion and minced garlic until they are soft and fragrant.\\n\\n3. Add in the shredded chicken, beef, or pork, diced green chilies, salt, and pepper. Cook until everything is heated through.\\n\\n4. Pour a small amount of enchilada sauce into a baking dish to coat the bottom.\\n\\n5. Take a corn tortilla and fill it with a spoonful of the meat mixture. Roll up the tortilla and place it seam-side down in the baking dish.\\n\\n6. Continue filling and rolling the rest of the tortillas, placing them snugly next to each other in the baking dish.\\n\\n7. Pour the remaining enchilada sauce over the top of the rolled tortillas, making sure they are all covered.\\n\\n8. Sprinkle the shredded cheese over the top of the enchiladas.\\n\\n9. Cover the baking dish with aluminum foil and bake in the preheated oven for about 20-25 minutes, or until the cheese is melted and bubbly.\\n\\n10. Serve the enchiladas hot with your choice of toppings.\\n\\nEnjoy your delicious homemade enchiladas!\", response_metadata={'token_usage': {'completion_tokens': 364, 'prompt_tokens': 15, 'total_tokens': 379}, 'model_name': 'gpt-3.5-turbo', 'system_fingerprint': None, 'finish_reason': 'stop', 'logprobs': None}, id='run-8ff0ff59-afad-4f1a-a8a5-f194c6b05e91-0')"
      ]
     },
     "execution_count": 32,
     "metadata": {},
     "output_type": "execute_result"
    }
   ],
   "source": [
    "model.invoke(\"How do you make enchiladas?\")"
   ]
  },
  {
   "cell_type": "code",
   "execution_count": 33,
   "metadata": {},
   "outputs": [
    {
     "data": {
      "text/plain": [
       "AIMessage(content='2 + 2 equals 4.', response_metadata={'token_usage': {'completion_tokens': 8, 'prompt_tokens': 15, 'total_tokens': 23}, 'model_name': 'gpt-3.5-turbo', 'system_fingerprint': None, 'finish_reason': 'stop', 'logprobs': None}, id='run-90cf854f-97d0-4a49-984d-9b32d86a873f-0')"
      ]
     },
     "execution_count": 33,
     "metadata": {},
     "output_type": "execute_result"
    }
   ],
   "source": [
    "model.invoke(\"How much is 2+2?\")"
   ]
  },
  {
   "cell_type": "markdown",
   "metadata": {},
   "source": [
    "The result from the model is an `AIMessage` instance containing the answer. We can extract this answer by chaining the model with an [output parser](https://python.langchain.com/docs/modules/model_io/output_parsers/).\n",
    "\n",
    "For this example, we'll use a simple `StrOutputParser` to extract the answer as a string."
   ]
  },
  {
   "cell_type": "code",
   "execution_count": 34,
   "metadata": {},
   "outputs": [
    {
     "data": {
      "text/plain": [
       "'The Los Angeles Dodgers won the World Series during the COVID-19 pandemic in 2020. They defeated the Tampa Bay Rays in a six-game series to clinch their first championship since 1988.'"
      ]
     },
     "execution_count": 34,
     "metadata": {},
     "output_type": "execute_result"
    }
   ],
   "source": [
    "from langchain_core.output_parsers import StrOutputParser\n",
    "\n",
    "parser = StrOutputParser()\n",
    "\n",
    "chain = model | parser\n",
    "chain.invoke(\"What MLB team won the World Series during the COVID-19 pandemic?\")"
   ]
  },
  {
   "cell_type": "code",
   "execution_count": 35,
   "metadata": {},
   "outputs": [
    {
     "data": {
      "text/plain": [
       "'1. Preheat your oven to 350°F (175°C).\\n\\n2. In a skillet, cook and crumble 1 pound of ground beef or turkey over medium heat until fully cooked. Add 1 diced onion and 2 minced garlic cloves and cook until the onion is translucent.\\n\\n3. Stir in 1 can of diced green chilies, 1 can of black beans (drained and rinsed), and 1 cup of enchilada sauce. Cook for a few minutes until heated through.\\n\\n4. In a separate skillet, heat a small amount of oil over medium heat. Lightly fry each corn tortilla for a few seconds on each side until softened.\\n\\n5. Spread a small amount of enchilada sauce on the bottom of a baking dish. Spoon some of the meat mixture onto each tortilla, roll it up, and place it seam side down in the baking dish.\\n\\n6. Pour the remaining enchilada sauce over the rolled tortillas, making sure they are all coated.\\n\\n7. Sprinkle shredded cheese over the top of the enchiladas.\\n\\n8. Cover the baking dish with foil and bake in the preheated oven for 20-25 minutes, until the cheese is melted and bubbly.\\n\\n9. Remove the foil and bake for an additional 5-10 minutes until the cheese is golden brown.\\n\\n10. Serve the enchiladas hot with your favorite toppings such as sour cream, diced tomatoes, avocado, and cilantro. Enjoy!'"
      ]
     },
     "execution_count": 35,
     "metadata": {},
     "output_type": "execute_result"
    }
   ],
   "source": [
    "chain.invoke(\"How do you make enchiladas?\")"
   ]
  },
  {
   "cell_type": "code",
   "execution_count": 36,
   "metadata": {},
   "outputs": [
    {
     "data": {
      "text/plain": [
       "'2 + 2 equals 4.'"
      ]
     },
     "execution_count": 36,
     "metadata": {},
     "output_type": "execute_result"
    }
   ],
   "source": [
    "chain.invoke(\"How much is 2+2?\")"
   ]
  },
  {
   "cell_type": "markdown",
   "metadata": {},
   "source": [
    "## Introducing prompt templates\n",
    "\n",
    "We want to provide the model with some context and the question. [Prompt templates](https://python.langchain.com/docs/modules/model_io/prompts/quick_start) are a simple way to define and reuse prompts."
   ]
  },
  {
   "cell_type": "code",
   "execution_count": 37,
   "metadata": {},
   "outputs": [
    {
     "data": {
      "text/plain": [
       "'Human: \\nAnswer the question based on the context below. If you can\\'t \\nanswer the question, reply \"I don\\'t know\".\\n\\nContext: Mary\\'s sister is Susana\\n\\nQuestion: Who is Mary\\'s sister?\\n'"
      ]
     },
     "execution_count": 37,
     "metadata": {},
     "output_type": "execute_result"
    }
   ],
   "source": [
    "from langchain.prompts import ChatPromptTemplate\n",
    "\n",
    "template = \"\"\"\n",
    "Answer the question based on the context below. If you can't \n",
    "answer the question, reply \"I don't know\".\n",
    "\n",
    "Context: {context}\n",
    "\n",
    "Question: {question}\n",
    "\"\"\"\n",
    "\n",
    "prompt = ChatPromptTemplate.from_template(template)\n",
    "prompt.format(context=\"Mary's sister is Susana\", question=\"Who is Mary's sister?\")"
   ]
  },
  {
   "cell_type": "markdown",
   "metadata": {},
   "source": [
    "We can now chain the prompt with the model and the output parser."
   ]
  },
  {
   "cell_type": "code",
   "execution_count": 38,
   "metadata": {},
   "outputs": [
    {
     "data": {
      "text/plain": [
       "'Susana'"
      ]
     },
     "execution_count": 38,
     "metadata": {},
     "output_type": "execute_result"
    }
   ],
   "source": [
    "chain = prompt | model | parser\n",
    "chain.invoke({\n",
    "    \"context\": \"Mary's sister is Susana\",\n",
    "    \"question\": \"Who is Mary's sister?\"\n",
    "})"
   ]
  },
  {
   "cell_type": "markdown",
   "metadata": {},
   "source": [
    "## Transcribing the YouTube Video\n",
    "\n",
    "The context we want to send the model comes from a YouTube video. Let's download the video and transcribe it using [OpenAI's Whisper](https://openai.com/research/whisper)."
   ]
  },
  {
   "cell_type": "code",
   "execution_count": 39,
   "metadata": {},
   "outputs": [],
   "source": [
    "import tempfile\n",
    "import whisper\n",
    "from pytube import YouTube\n",
    "\n",
    "\n",
    "# Let's do this only if we haven't created the transcription file yet.\n",
    "if not os.path.exists(\"transcription.txt\"):\n",
    "    youtube = YouTube(YOUTUBE_VIDEO)\n",
    "    audio = youtube.streams.filter(only_audio=True).first()\n",
    "\n",
    "    # Let's load the base model. This is not the most accurate\n",
    "    # model but it's fast.\n",
    "    whisper_model = whisper.load_model(\"base\")\n",
    "\n",
    "    with tempfile.TemporaryDirectory() as tmpdir:\n",
    "        file = audio.download(output_path=tmpdir)\n",
    "        transcription = whisper_model.transcribe(file, fp16=False)[\"text\"].strip()\n",
    "\n",
    "        with open(\"transcription.txt\", \"w\") as file:\n",
    "            file.write(transcription)"
   ]
  },
  {
   "cell_type": "markdown",
   "metadata": {},
   "source": [
    "Let's read the transcription and display the first few characters to ensure everything works as expected."
   ]
  },
  {
   "cell_type": "code",
   "execution_count": 40,
   "metadata": {},
   "outputs": [
    {
     "data": {
      "text/plain": [
       "'We recently completed a series on Oasis that presented us with one of what in my opinion is one of t'"
      ]
     },
     "execution_count": 40,
     "metadata": {},
     "output_type": "execute_result"
    }
   ],
   "source": [
    "with open(\"transcription.txt\") as file:\n",
    "    transcription = file.read()\n",
    "\n",
    "transcription[:100]"
   ]
  },
  {
   "cell_type": "markdown",
   "metadata": {},
   "source": [
    "## Splitting the transcription\n",
    "\n",
    "Since we can't use the entire transcription as the context for the model, a potential solution is to split the transcription into smaller chunks. We can then invoke the model using only the relevant chunks to answer a particular question:\n",
    "\n",
    "Let's start by loading the transcription in memory:"
   ]
  },
  {
   "cell_type": "code",
   "execution_count": 41,
   "metadata": {},
   "outputs": [
    {
     "data": {
      "text/plain": [
       "[Document(page_content=\"We recently completed a series on Oasis that presented us with one of what in my opinion is one of the most difficult ethical dilemmas in all of Fallout 3. This video will make more sense if you first watch that series by clicking here. When we arrived at Oasis, we discovered that a group called the Tree Minders were worshipping a talking tree. It was only later we realized that the talking tree is actually herald, a human being who was mutated by FEV nearly 200 years ago. During the events of Fallout 2, a tree-like structure began to sprout out of his head, and it grew over the ensuing decades as herald wandered the continent. It finally became too much for him when he reached the capital wasteland, and when he stopped here on the Oasis, his mutation took root, stopping herald in place permanently for the rest of his life. His mutation, which he called Bob, then went on to produce seeds, that the winds scattered all over the place, which miraculously took root and grew into lush forests. The problem is that herald's mutation has caused him to become immortal. Well, as far as we know, he at least has an extended lifespan, centuries longer than that of an average human, possibly even millennia longer. Boom-Sir Poplar, thanks I'll live for hundreds of years. Maybe even more. This was herald's predicament when we met him in the grove, and that is why he asked us to kill him. I had you brought in here to ask a very simple favor. Would you please kill me? It wouldn't be murder. He'd be doing me a favor. By that time he had already been anchored to that spot for over 20 years, he can't sleep, can't eat, can't do any of the other normal things humans do. He just stands there, as time goes on around him. He couldn't bear the thought of spending one more moment in that state. He'd much rather die. To complicate things, during those 20 years, a community has grown up around him. Founded by Treefather Birch, the tree miners are more than just a mindless cult. I mean, sure, there's plenty of that. May you remain under the canopy of his protection. May your spirit rest in his branches. But there also a community, like any other community in the Capital Wasteland, and in many ways, a much more admirable one. They keep to themselves, they defend what's theirs, but they treat outsiders fairly and politely. When they invite people into their homes, they're hospitable. You have a lot of nerve, we've shown you nothing but hospitality, and then instead of thanks, you choose to hurl insults. They thank people who help them by giving them gifts, such as our tradition when honored guests are preparing to leave. They're also kind nature. We learned this while talking with Branch Tender Lyndon. Branch Tender Lyndon was a brotherhood outcast. His entire patrol was wiped out. He was at Death's door, but the tree miners showed up and nursed him back to health. They didn't have to do that. They had no reason to do that. She nursed me back to health, and I've stayed ever since. I felt I owed these people for bringing me back from the brink. But they did it out of kindness, and it was because of that kindness that Lyndon decided to join their ranks. They even adopt orphans, at least as far as I'm able to tell, we met one child there, little sapling you, and we learned that she's the child of a pretty father, Birch, and three mother, Laurel. They're the best parents ever. I was born here, which is odd because they're both getting on in years, and I'm not saying that to be me, they just both really look old, so old in fact that it seems unlikely that Laurel would be able to give birth. I think it's much more likely, unbeknownst to sapling you, that she was an orphan, whom Birch and Laurel adopted as a baby, and raised as their own. If so, it's just one more act of kindness of the tree-minders. Despite their goofiness, I think the tree-minder community is worth preserving. Tree-father Birch certainly thinks so, which is why he asked us to apply sap on Laurel's heart instead of destroying it. This sap would have prevented Laurel from growing any further. If the same sap that you drank to purify yourself could be applying to his art, it should stop the spread. His reasoning was that if Laurel couldn't grow anymore, he would draw less attention to himself, which would make it less likely for bad actors like Raiders and Mutants to combine destroy their community and end up killing Harold. His wife, Tree-mother Laurel, has a different solution. Instead of encasing Harold's heart with a hard restrictive sap, she urged us to coat it with a liniment that would encourage more growth. The same person that created the sap also created this liniment. If you can reach his heart, it will assist him in making his influence increase. Instead of centuries, the wasteland will become green in mere decades. Just imagine how glorious that would be. Her argument is that it's better for Harold to grow farther and faster, because in so doing, he'll restore life back to the wasteland. And this is an extremely compelling argument. One of the first things we discovered when we arrived at the Grove was that the water here is not pure. When we took a sip from a nearby lake, we took on rads. When we asked Tree-father Birch about it, he admitted that the water here is still irradiated, and yet we see life all around us. I'm afraid the water still bears the mark of man's greed. This can only mean that the seedlings produced by Bob and Harold are immune to radiation. For 200 years, the capital wasteland has been without any green life. The only trees we see are the burnt and blasted out husks of trees that died centuries ago. The entire point of the game is for project purity to succeed, to create a water purifier, to make the waters of the capital wasteland's purifier for people to drink from. But here we find a source of vegetation that can still grow even in this environment. If we chose to side with Laurel, then the life that Harold produces would grow outside of oasis, creeping south, eventually overtaking the capital wasteland itself. What if some of these plants bore fruit? We would then have a source of food that could grow in the irradiated soil of the capital wasteland, potentially revolutionizing the way people lived here. Depending on how fast Harold grew, we might even have a new source of lumber, providing people with the raw materials they needed to rebuild their cities instead of living out of crumbling buildings and structures that have been rotting for 200 years. It would give the people of the capital wasteland a unique resource that they could barter with, fresh lumber, new fruits and vegetables, and these resources are renewable. Harold and Bob produce new seeds every single year. All it takes is a good wind and the seeds just fly everywhere. Additionally, Bloomsy or Poplar raises a great argument against Birxas' plan to encase Harold's heart and sap. You'd think he'd realize that this place won't remain a secret forever. The caravans know about it and you found it. How long before someone comes to take this place by force? No, I say allow this place to grow and that issue becomes moot. She notes that we, the lone wanderer, found Oasis, the local caravans already know about Oasis. They have been visited by outsiders before. Oasis, as it is, is already conspicuous. It's just a matter of time before more people discover Oasis. It's even mentioned on Galaxy News Radio. There's a place with lots of trees, a veritable Oasis of green in that depressing sea of brown. It's just impractical to keep Harold and the Oasis a secret. But what about doing what Harold says? What are the ramifications of killing him? Well, if we kill Harold, he and Bob can no longer produce new life. We are not told that the other trees growing around him produce seeds of their own. Harold tells us that only he and Bob produce them. So with Harold dead, the grove stops. I don't know if the trees here will die without Harold, but I doubt new life would grow. The tree-minders would of course be lost without Harold, but their adults, they can deal with it, but sapling you isn't. We learn from little sapling you that Harold is her best friend. Oh, you mean Harold? He's really nice. Sometimes when I get really lonely, I go into the grove and talk to him. Sometimes I even curl up all cozy like and sleep next to his root after I have a bad dream. Harold even tells us that the only bright moment in his life is sapling you. Actually, the kid is the nicest one of all. Use her name. She sneaks in here sometimes and just lets me talk about stuff I want to talk about. Bob really likes her too, because she makes me happy. Which is why if we choose to side with either Birch or Laurel, we can through dialogue convince Harold that maybe his wish for death was selfish. So they really need me that badly, huh? I guess I never thought of it that way. Awfully selfish, you mean. Restrainingly, we can't convince him of this before we make our decision. That I think is the important thing to consider here. There's no option to convince Harold to stay alive. There's no option to say something like, well, what about sapling you? Aren't you concerned about her? What would happen to her if you die? There's no option to tell him everything we've learned from Lyndon and Birch and say something like, you're more important to the people of the wasteland, alive than dead. Now, when we talk with Harold before making our decision, he's pretty clear in pretty firm. In fact, he flat out begs us to kill him. Can you imagine being stuck in one place for that long? Not being able to eat or to read or to sleep or anything? In the meantime, I have these tree-minders bothering me every day about things I don't even care about. I can't stand it anymore. Can you imagine that? Stuck here for centuries? I can't do it. I just want to be alone. Just be in Bob until the end. I don't want to wait until the next person visits. It could be years you're all I've got. Just think about it. Okay. I think it's good to sign with Treefather Birch because the tree-minders are a community worth preserving. Despite their quirks, the capital wasteland is better that they're there. However, when thinking about the greater good, I think Treemother Laurel's solution is the best. It has the potential to help the most people. Causing Harold's mutation to grow even faster will bring life to the capital wasteland a life that's immune to radiation and provide the people of the capital wasteland with new economic resources. But here's the problem. Harold isn't a natural wonder. He's not a resource to be exploited. He's a person. He's a human being while a mutated one. When I think about what we're doing if we choose to sign with Birch or Laurel, we're invading the body of another human being and modifying his organs against his will. So it looks like you decided to do things their way. How come? If we think about it like that, both options become really messed up. And even though I think citing with Treemother Laurel would be for the greater good, it is of course that Harold's expense. By citing with Treemother Laurel, we turn Harold into a slave. Despite what he wants, we are forcing him to work harder, grow faster to produce more. Despite what he wants, we're imposing our will on a man who can't defend himself. He's completely defenseless. Despite what he wants, we're taking advantage of his time, energy, and his physical body because we know what's best for him. Is it selfish for Harold to want death? Even though it would break use heart, even though the capital wasteland is potentially losing an incredibly important resource. Maybe, but I don't think anyone alive or anyone who has ever lived really knows what kind of hell Harold is living with, but Harold. Burning Harold to death is one of the evilest things we could possibly do. But once he's dead, he's dead. He is no longer in pain. Choosing to side with either Birch or Laurel, Doom's Harold to an eternity of being a slave for someone else. By citing with Birch, we doom Harold to an eternity of being a slave to the Treeminders. He becomes their unwilling God forever. By citing with Treemother Laurel, we doom Harold to an eternity of being a slave to the people of the capital wasteland, revitalizing their world, providing them with resources. Honestly, those two options are worse than killing Harold with fire. The ends justify the means argument would likely side with Treemother Laurel and say that sure, we're sacrificing Harold, but it's a necessary sacrifice. After all, the needs of the many outweigh the needs of the few. But I wonder what that same person would say if faced with a hypothetical question, is it okay to enslave a small number of people to provide resources that build a great society for others? So what one might say if we sacrifice the freedom of a few if the fruit of their labor produces so much for so many? That type of thinking leads to atrocities, forcibly sacrificing others is not noble. And so, in my opinion, as hard as it is for me to do, I think the most ethical choice is to do as Harold asks to respect him as a person, not view him as a resource, to grant him humanity and dignity instead of turning him into an eternal slave. And so I destroyed Harold's heart in my gameplay, and the hardest part was having to meet sapling you on my way out to hear how heartbroken she was that her best friend was gone. Now that Harold's gone, I lost my best friend. All I wanted to was cry. But that I think was the right choice. But that's just my opinion. I'd love to hear what you think, and to find out what choice you made in your game. Let me know your thoughts in the comments section below. I publish many videos each and every week here on my channel, so if you want to make sure you don't miss my next one, be sure to subscribe and to click that bell notification button. If you have, and you still find that you're not getting notified when I publish new content, consider following me on Twitter. I manually update Twitter every time I publish something new. I have a shirt shop with completely unique designs you can't find anywhere else. My designs come out of a variety of men's, women's and children's sizes, and in a wide array of colors. You can find my designs on other products as well, like smartphone cases, pillows, posters, mugs, stickers, princesses, etc. So if interested, you can find a link to my shop in the description below, or you can click here. If you like what I do and you want to support me in a more personal way, consider becoming a patron on Patreon or a member here on YouTube. But more than anything, I'm just so glad you're here watching this video with me today. Thank you so much for watching, and I'll see you soon with more brand new videos.\", metadata={'source': 'transcription.txt'})]"
      ]
     },
     "execution_count": 41,
     "metadata": {},
     "output_type": "execute_result"
    }
   ],
   "source": [
    "from langchain_community.document_loaders import TextLoader\n",
    "\n",
    "loader = TextLoader(\"transcription.txt\")\n",
    "text_documents = loader.load()\n",
    "text_documents"
   ]
  },
  {
   "cell_type": "markdown",
   "metadata": {},
   "source": [
    "There are many different ways to split a document. For this example, we'll use a simple splitter that splits the document into chunks of a fixed size. Check [Text Splitters](https://python.langchain.com/docs/modules/data_connection/document_transformers/) for more information about different approaches to splitting documents.\n",
    "\n",
    "For illustration purposes, let's split the transcription into chunks of 100 characters with an overlap of 20 characters and display the first few chunks:"
   ]
  },
  {
   "cell_type": "code",
   "execution_count": 42,
   "metadata": {},
   "outputs": [
    {
     "data": {
      "text/plain": [
       "[Document(page_content='We recently completed a series on Oasis that presented us with one of what in my opinion is one of', metadata={'source': 'transcription.txt'}),\n",
       " Document(page_content='opinion is one of the most difficult ethical dilemmas in all of Fallout 3. This video will make', metadata={'source': 'transcription.txt'}),\n",
       " Document(page_content='video will make more sense if you first watch that series by clicking here. When we arrived at', metadata={'source': 'transcription.txt'}),\n",
       " Document(page_content='When we arrived at Oasis, we discovered that a group called the Tree Minders were worshipping a', metadata={'source': 'transcription.txt'}),\n",
       " Document(page_content='were worshipping a talking tree. It was only later we realized that the talking tree is actually', metadata={'source': 'transcription.txt'})]"
      ]
     },
     "execution_count": 42,
     "metadata": {},
     "output_type": "execute_result"
    }
   ],
   "source": [
    "from langchain.text_splitter import RecursiveCharacterTextSplitter\n",
    "\n",
    "text_splitter = RecursiveCharacterTextSplitter(chunk_size=100, chunk_overlap=20)\n",
    "text_splitter.split_documents(text_documents)[:5]"
   ]
  },
  {
   "cell_type": "markdown",
   "metadata": {},
   "source": [
    "For our specific application, let's use 1000 characters instead:"
   ]
  },
  {
   "cell_type": "code",
   "execution_count": 43,
   "metadata": {},
   "outputs": [],
   "source": [
    "text_splitter = RecursiveCharacterTextSplitter(chunk_size=1000, chunk_overlap=20)\n",
    "documents = text_splitter.split_documents(text_documents)"
   ]
  },
  {
   "cell_type": "markdown",
   "metadata": {},
   "source": [
    "## Loading transcription into the vector store\n",
    "\n",
    "We initialized the vector store with a few random strings. Let's create a new vector store using the chunks from the video transcription."
   ]
  },
  {
   "cell_type": "code",
   "execution_count": 53,
   "metadata": {},
   "outputs": [],
   "source": [
    "from langchain_openai.embeddings import OpenAIEmbeddings\n",
    "embeddings = OpenAIEmbeddings()\n",
    "\n",
    "\n",
    "from sklearn.metrics.pairwise import cosine_similarity\n",
    "\n"
   ]
  },
  {
   "cell_type": "code",
   "execution_count": 54,
   "metadata": {},
   "outputs": [],
   "source": [
    "from langchain_community.vectorstores import DocArrayInMemorySearch\n",
    "vectorstore2 = DocArrayInMemorySearch.from_documents(documents, embeddings)"
   ]
  },
  {
   "cell_type": "markdown",
   "metadata": {},
   "source": [
    "Let's set up a new chain using the correct vector store. This time we are using a different equivalent syntax to specify the [`RunnableParallel`](https://python.langchain.com/docs/expression_language/how_to/map) portion of the chain:"
   ]
  },
  {
   "cell_type": "code",
   "execution_count": 55,
   "metadata": {},
   "outputs": [
    {
     "data": {
      "text/plain": [
       "'Harold is a character mentioned in the context, who is described as living in a state of suffering and facing the possibility of being enslaved for eternity by either Birch or Laurel. Harold is also mentioned as the guardian of a grove where only he and Bob can produce seeds for new life. Additionally, Harold is described as having a close relationship with a child named sapling you, who considers Harold her best friend.'"
      ]
     },
     "execution_count": 55,
     "metadata": {},
     "output_type": "execute_result"
    }
   ],
   "source": [
    "from langchain_core.runnables import RunnableParallel, RunnablePassthrough\n",
    "# retriever1 = vectorstore1.as_retriever()\n",
    "# chain = setup | prompt | model | parser\n",
    "# setup = RunnableParallel(context=retriever1, question=RunnablePassthrough())\n",
    "\n",
    "chain = (\n",
    "    {\"context\": vectorstore2.as_retriever(), \"question\": RunnablePassthrough()}\n",
    "    | prompt\n",
    "    | model\n",
    "    | parser\n",
    ")\n",
    "chain.invoke(\"Who is Harold?\")"
   ]
  },
  {
   "cell_type": "markdown",
   "metadata": {},
   "source": [
    "## Setting up Pinecone\n",
    "\n",
    "So far we've used an in-memory vector store. In practice, we need a vector store that can handle large amounts of data and perform similarity searches at scale. For this example, we'll use [Pinecone](https://www.pinecone.io/).\n",
    "\n",
    "The first step is to create a Pinecone account, set up an index, get an API key, and set it as an environment variable `PINECONE_API_KEY`.\n",
    "\n",
    "Then, we can load the transcription documents into Pinecone:"
   ]
  },
  {
   "cell_type": "code",
   "execution_count": 56,
   "metadata": {},
   "outputs": [],
   "source": [
    "from langchain_pinecone import PineconeVectorStore\n",
    "\n",
    "index_name = \"fallout\"\n",
    "\n",
    "pinecone = PineconeVectorStore.from_documents(\n",
    "    documents, embeddings, index_name=index_name\n",
    ")"
   ]
  },
  {
   "cell_type": "markdown",
   "metadata": {},
   "source": [
    "Let's now run a similarity search on pinecone to make sure everything works:"
   ]
  },
  {
   "cell_type": "code",
   "execution_count": 57,
   "metadata": {},
   "outputs": [
    {
     "data": {
      "text/plain": [
       "[Document(page_content=\"who has ever lived really knows what kind of hell Harold is living with, but Harold. Burning Harold to death is one of the evilest things we could possibly do. But once he's dead, he's dead. He is no longer in pain. Choosing to side with either Birch or Laurel, Doom's Harold to an eternity of being a slave for someone else. By citing with Birch, we doom Harold to an eternity of being a slave to the Treeminders. He becomes their unwilling God forever. By citing with Treemother Laurel, we doom Harold to an eternity of being a slave to the people of the capital wasteland, revitalizing their world, providing them with resources. Honestly, those two options are worse than killing Harold with fire. The ends justify the means argument would likely side with Treemother Laurel and say that sure, we're sacrificing Harold, but it's a necessary sacrifice. After all, the needs of the many outweigh the needs of the few. But I wonder what that same person would say if faced with a hypothetical\", metadata={'source': 'transcription.txt'}),\n",
       " Document(page_content=\"who has ever lived really knows what kind of hell Harold is living with, but Harold. Burning Harold to death is one of the evilest things we could possibly do. But once he's dead, he's dead. He is no longer in pain. Choosing to side with either Birch or Laurel, Doom's Harold to an eternity of being a slave for someone else. By citing with Birch, we doom Harold to an eternity of being a slave to the Treeminders. He becomes their unwilling God forever. By citing with Treemother Laurel, we doom Harold to an eternity of being a slave to the people of the capital wasteland, revitalizing their world, providing them with resources. Honestly, those two options are worse than killing Harold with fire. The ends justify the means argument would likely side with Treemother Laurel and say that sure, we're sacrificing Harold, but it's a necessary sacrifice. After all, the needs of the many outweigh the needs of the few. But I wonder what that same person would say if faced with a hypothetical\", metadata={'source': 'transcription.txt'}),\n",
       " Document(page_content=\"who has ever lived really knows what kind of hell Harold is living with, but Harold. Burning Harold to death is one of the evilest things we could possibly do. But once he's dead, he's dead. He is no longer in pain. Choosing to side with either Birch or Laurel, Doom's Harold to an eternity of being a slave for someone else. By citing with Birch, we doom Harold to an eternity of being a slave to the Treeminders. He becomes their unwilling God forever. By citing with Treemother Laurel, we doom Harold to an eternity of being a slave to the people of the capital wasteland, revitalizing their world, providing them with resources. Honestly, those two options are worse than killing Harold with fire. The ends justify the means argument would likely side with Treemother Laurel and say that sure, we're sacrificing Harold, but it's a necessary sacrifice. After all, the needs of the many outweigh the needs of the few. But I wonder what that same person would say if faced with a hypothetical\", metadata={'source': 'transcription.txt'})]"
      ]
     },
     "execution_count": 57,
     "metadata": {},
     "output_type": "execute_result"
    }
   ],
   "source": [
    "pinecone.similarity_search(\"Who is Harold?\")[:3]"
   ]
  },
  {
   "cell_type": "markdown",
   "metadata": {},
   "source": [
    "Let's setup the new chain using Pinecone as the vector store:"
   ]
  },
  {
   "cell_type": "code",
   "execution_count": 61,
   "metadata": {},
   "outputs": [
    {
     "data": {
      "text/plain": [
       "'Harold is a character who is described as living in a kind of hell, facing the possibility of being burned to death or becoming a slave for someone else for eternity. He is also connected to the production of seeds and is mentioned as having a close relationship with a character referred to as \"sapling you\".'"
      ]
     },
     "execution_count": 61,
     "metadata": {},
     "output_type": "execute_result"
    }
   ],
   "source": [
    "chain = (\n",
    "    {\"context\": pinecone.as_retriever(), \"question\": RunnablePassthrough()}\n",
    "    | prompt\n",
    "    | model\n",
    "    | parser\n",
    ")\n",
    "\n",
    "chain.invoke(\"Who is Harold?\")"
   ]
  },
  {
   "cell_type": "code",
   "execution_count": null,
   "metadata": {},
   "outputs": [],
   "source": []
  }
 ],
 "metadata": {
  "kernelspec": {
   "display_name": "Python 3 (ipykernel)",
   "language": "python",
   "name": "python3"
  },
  "language_info": {
   "codemirror_mode": {
    "name": "ipython",
    "version": 3
   },
   "file_extension": ".py",
   "mimetype": "text/x-python",
   "name": "python",
   "nbconvert_exporter": "python",
   "pygments_lexer": "ipython3",
   "version": "3.11.4"
  }
 },
 "nbformat": 4,
 "nbformat_minor": 4
}
